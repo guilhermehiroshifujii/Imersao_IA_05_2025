{
  "nbformat": 4,
  "nbformat_minor": 0,
  "metadata": {
    "colab": {
      "provenance": [],
      "include_colab_link": true
    },
    "kernelspec": {
      "name": "python3",
      "display_name": "Python 3"
    },
    "language_info": {
      "name": "python"
    }
  },
  "cells": [
    {
      "cell_type": "markdown",
      "metadata": {
        "id": "view-in-github",
        "colab_type": "text"
      },
      "source": [
        "<a href=\"https://colab.research.google.com/github/guilhermehiroshifujii/Imersao_IA_05_2025/blob/main/Copy_of_Imers%C3%A3o_IA_Alura_%2B_Google_Gemini_Aula_05_Agentes.ipynb\" target=\"_parent\"><img src=\"https://colab.research.google.com/assets/colab-badge.svg\" alt=\"Open In Colab\"/></a>"
      ]
    },
    {
      "cell_type": "code",
      "source": [
        "%pip -q install google-genai"
      ],
      "metadata": {
        "id": "UCCbECexLk_h"
      },
      "execution_count": null,
      "outputs": []
    },
    {
      "cell_type": "code",
      "source": [
        "# Configura a API Key do Google Gemini\n",
        "\n",
        "import os\n",
        "from google.colab import userdata\n",
        "\n",
        "os.environ[\"GOOGLE_API_KEY\"] = userdata.get('GOOGLE_API_KEY')"
      ],
      "metadata": {
        "id": "NfCqHo1tLk8P"
      },
      "execution_count": null,
      "outputs": []
    },
    {
      "cell_type": "code",
      "source": [
        "# Configura o cliente da SDK do Gemini\n",
        "\n",
        "from google import genai\n",
        "\n",
        "client = genai.Client()\n",
        "\n",
        "MODEL_ID = \"gemini-2.0-flash\""
      ],
      "metadata": {
        "id": "bV4w0H5TLk5g"
      },
      "execution_count": null,
      "outputs": []
    },
    {
      "cell_type": "code",
      "source": [
        "# Pergunta ao Gemini uma informação mais recente que seu conhecimento\n",
        "\n",
        "from IPython.display import HTML, Markdown\n",
        "\n",
        "# Perguntar pro modelo quando é a próxima imersão de IA ###############################################\n",
        "resposta = client.models.generate_content(\n",
        "    model=MODEL_ID,\n",
        "    contents= \"Quando é a próxima Imersão IA com Google Gemini da Alura?\"\n",
        ")\n",
        "\n",
        "\n",
        "# Exibe a resposta na tela\n",
        "display(Markdown(f\"Resposta:\\n {resposta.text}\"))"
      ],
      "metadata": {
        "id": "HwVP7Xi34Zuw",
        "colab": {
          "base_uri": "https://localhost:8080/",
          "height": 145
        },
        "outputId": "10a110ff-b8da-4f2a-f96e-03c63652eb2a"
      },
      "execution_count": null,
      "outputs": [
        {
          "output_type": "display_data",
          "data": {
            "text/plain": [
              "<IPython.core.display.Markdown object>"
            ],
            "text/markdown": "Resposta:\n A Alura não tem uma data fixa para a Imersão IA com Google Gemini. A melhor forma de saber quando a próxima edição será lançada é:\n\n*   **Acompanhar as redes sociais da Alura:** Fique de olho no Instagram, LinkedIn e outras plataformas onde a Alura costuma divulgar seus eventos e cursos.\n*   **Assinar a newsletter da Alura:** Assim você receberá novidades e anúncios diretamente no seu e-mail.\n*   **Verificar a página de cursos da Alura:** Consulte regularmente a página de cursos de Inteligência Artificial da Alura para ver se a Imersão IA com Google Gemini foi adicionada ao catálogo.\n\nAlém disso, você pode entrar em contato diretamente com a Alura através do site deles para perguntar sobre a previsão da próxima edição."
          },
          "metadata": {}
        }
      ]
    },
    {
      "cell_type": "code",
      "source": [
        "# Pergunta ao Gemini uma informação utilizando a busca do Google como contexto\n",
        "\n",
        "response = client.models.generate_content(\n",
        "    model=MODEL_ID,\n",
        "    contents='Quando é a próxima Imersão IA com Google Gemini da Alura?',\n",
        "    config={\"tools\": [{\"google_search\": {}}]}\n",
        "\n",
        ")\n",
        "\n",
        "# Exibe a resposta na tela\n",
        "display(Markdown(f\"Resposta:\\n {response.text}\"))"
      ],
      "metadata": {
        "id": "yXaZd7iZ4ftw",
        "colab": {
          "base_uri": "https://localhost:8080/",
          "height": 64
        },
        "outputId": "2ba172f9-8c07-4a63-c9c1-dde52051d8fd"
      },
      "execution_count": null,
      "outputs": [
        {
          "output_type": "display_data",
          "data": {
            "text/plain": [
              "<IPython.core.display.Markdown object>"
            ],
            "text/markdown": "Resposta:\n A próxima Imersão IA com Google Gemini da Alura ocorreu entre os dias 12 e 16 de maio de 2025. As inscrições estiveram abertas até o dia 11 de maio de 2025.\n"
          },
          "metadata": {}
        }
      ]
    },
    {
      "cell_type": "code",
      "source": [
        "# Exibe a busca\n",
        "print(f\"Busca realizada: {response.candidates[0].grounding_metadata.web_search_queries}\")\n",
        "# Exibe as URLs nas quais ele se baseou\n",
        "print(f\"Páginas utilizadas na resposta: {', '.join([site.web.title for site in response.candidates[0].grounding_metadata.grounding_chunks])}\")\n",
        "print()\n",
        "display(HTML(response.candidates[0].grounding_metadata.search_entry_point.rendered_content))"
      ],
      "metadata": {
        "id": "xHSNlTd84heJ",
        "colab": {
          "base_uri": "https://localhost:8080/",
          "height": 117
        },
        "outputId": "277818a9-25ea-4242-c1c1-55d4029a2e22"
      },
      "execution_count": null,
      "outputs": [
        {
          "output_type": "stream",
          "name": "stdout",
          "text": [
            "Busca realizada: ['próxima imersão IA com Google Gemini Alura', 'Alura Imersão IA Google Gemini']\n",
            "Páginas utilizadas na resposta: starten.tech, tecmundo.com.br, youtube.com, alura.com.br\n",
            "\n"
          ]
        },
        {
          "output_type": "display_data",
          "data": {
            "text/plain": [
              "<IPython.core.display.HTML object>"
            ],
            "text/html": [
              "<style>\n",
              ".container {\n",
              "  align-items: center;\n",
              "  border-radius: 8px;\n",
              "  display: flex;\n",
              "  font-family: Google Sans, Roboto, sans-serif;\n",
              "  font-size: 14px;\n",
              "  line-height: 20px;\n",
              "  padding: 8px 12px;\n",
              "}\n",
              ".chip {\n",
              "  display: inline-block;\n",
              "  border: solid 1px;\n",
              "  border-radius: 16px;\n",
              "  min-width: 14px;\n",
              "  padding: 5px 16px;\n",
              "  text-align: center;\n",
              "  user-select: none;\n",
              "  margin: 0 8px;\n",
              "  -webkit-tap-highlight-color: transparent;\n",
              "}\n",
              ".carousel {\n",
              "  overflow: auto;\n",
              "  scrollbar-width: none;\n",
              "  white-space: nowrap;\n",
              "  margin-right: -12px;\n",
              "}\n",
              ".headline {\n",
              "  display: flex;\n",
              "  margin-right: 4px;\n",
              "}\n",
              ".gradient-container {\n",
              "  position: relative;\n",
              "}\n",
              ".gradient {\n",
              "  position: absolute;\n",
              "  transform: translate(3px, -9px);\n",
              "  height: 36px;\n",
              "  width: 9px;\n",
              "}\n",
              "@media (prefers-color-scheme: light) {\n",
              "  .container {\n",
              "    background-color: #fafafa;\n",
              "    box-shadow: 0 0 0 1px #0000000f;\n",
              "  }\n",
              "  .headline-label {\n",
              "    color: #1f1f1f;\n",
              "  }\n",
              "  .chip {\n",
              "    background-color: #ffffff;\n",
              "    border-color: #d2d2d2;\n",
              "    color: #5e5e5e;\n",
              "    text-decoration: none;\n",
              "  }\n",
              "  .chip:hover {\n",
              "    background-color: #f2f2f2;\n",
              "  }\n",
              "  .chip:focus {\n",
              "    background-color: #f2f2f2;\n",
              "  }\n",
              "  .chip:active {\n",
              "    background-color: #d8d8d8;\n",
              "    border-color: #b6b6b6;\n",
              "  }\n",
              "  .logo-dark {\n",
              "    display: none;\n",
              "  }\n",
              "  .gradient {\n",
              "    background: linear-gradient(90deg, #fafafa 15%, #fafafa00 100%);\n",
              "  }\n",
              "}\n",
              "@media (prefers-color-scheme: dark) {\n",
              "  .container {\n",
              "    background-color: #1f1f1f;\n",
              "    box-shadow: 0 0 0 1px #ffffff26;\n",
              "  }\n",
              "  .headline-label {\n",
              "    color: #fff;\n",
              "  }\n",
              "  .chip {\n",
              "    background-color: #2c2c2c;\n",
              "    border-color: #3c4043;\n",
              "    color: #fff;\n",
              "    text-decoration: none;\n",
              "  }\n",
              "  .chip:hover {\n",
              "    background-color: #353536;\n",
              "  }\n",
              "  .chip:focus {\n",
              "    background-color: #353536;\n",
              "  }\n",
              "  .chip:active {\n",
              "    background-color: #464849;\n",
              "    border-color: #53575b;\n",
              "  }\n",
              "  .logo-light {\n",
              "    display: none;\n",
              "  }\n",
              "  .gradient {\n",
              "    background: linear-gradient(90deg, #1f1f1f 15%, #1f1f1f00 100%);\n",
              "  }\n",
              "}\n",
              "</style>\n",
              "<div class=\"container\">\n",
              "  <div class=\"headline\">\n",
              "    <svg class=\"logo-light\" width=\"18\" height=\"18\" viewBox=\"9 9 35 35\" fill=\"none\" xmlns=\"http://www.w3.org/2000/svg\">\n",
              "      <path fill-rule=\"evenodd\" clip-rule=\"evenodd\" d=\"M42.8622 27.0064C42.8622 25.7839 42.7525 24.6084 42.5487 23.4799H26.3109V30.1568H35.5897C35.1821 32.3041 33.9596 34.1222 32.1258 35.3448V39.6864H37.7213C40.9814 36.677 42.8622 32.2571 42.8622 27.0064V27.0064Z\" fill=\"#4285F4\"/>\n",
              "      <path fill-rule=\"evenodd\" clip-rule=\"evenodd\" d=\"M26.3109 43.8555C30.9659 43.8555 34.8687 42.3195 37.7213 39.6863L32.1258 35.3447C30.5898 36.3792 28.6306 37.0061 26.3109 37.0061C21.8282 37.0061 18.0195 33.9811 16.6559 29.906H10.9194V34.3573C13.7563 39.9841 19.5712 43.8555 26.3109 43.8555V43.8555Z\" fill=\"#34A853\"/>\n",
              "      <path fill-rule=\"evenodd\" clip-rule=\"evenodd\" d=\"M16.6559 29.8904C16.3111 28.8559 16.1074 27.7588 16.1074 26.6146C16.1074 25.4704 16.3111 24.3733 16.6559 23.3388V18.8875H10.9194C9.74388 21.2072 9.06992 23.8247 9.06992 26.6146C9.06992 29.4045 9.74388 32.022 10.9194 34.3417L15.3864 30.8621L16.6559 29.8904V29.8904Z\" fill=\"#FBBC05\"/>\n",
              "      <path fill-rule=\"evenodd\" clip-rule=\"evenodd\" d=\"M26.3109 16.2386C28.85 16.2386 31.107 17.1164 32.9095 18.8091L37.8466 13.8719C34.853 11.082 30.9659 9.3736 26.3109 9.3736C19.5712 9.3736 13.7563 13.245 10.9194 18.8875L16.6559 23.3388C18.0195 19.2636 21.8282 16.2386 26.3109 16.2386V16.2386Z\" fill=\"#EA4335\"/>\n",
              "    </svg>\n",
              "    <svg class=\"logo-dark\" width=\"18\" height=\"18\" viewBox=\"0 0 48 48\" xmlns=\"http://www.w3.org/2000/svg\">\n",
              "      <circle cx=\"24\" cy=\"23\" fill=\"#FFF\" r=\"22\"/>\n",
              "      <path d=\"M33.76 34.26c2.75-2.56 4.49-6.37 4.49-11.26 0-.89-.08-1.84-.29-3H24.01v5.99h8.03c-.4 2.02-1.5 3.56-3.07 4.56v.75l3.91 2.97h.88z\" fill=\"#4285F4\"/>\n",
              "      <path d=\"M15.58 25.77A8.845 8.845 0 0 0 24 31.86c1.92 0 3.62-.46 4.97-1.31l4.79 3.71C31.14 36.7 27.65 38 24 38c-5.93 0-11.01-3.4-13.45-8.36l.17-1.01 4.06-2.85h.8z\" fill=\"#34A853\"/>\n",
              "      <path d=\"M15.59 20.21a8.864 8.864 0 0 0 0 5.58l-5.03 3.86c-.98-2-1.53-4.25-1.53-6.64 0-2.39.55-4.64 1.53-6.64l1-.22 3.81 2.98.22 1.08z\" fill=\"#FBBC05\"/>\n",
              "      <path d=\"M24 14.14c2.11 0 4.02.75 5.52 1.98l4.36-4.36C31.22 9.43 27.81 8 24 8c-5.93 0-11.01 3.4-13.45 8.36l5.03 3.85A8.86 8.86 0 0 1 24 14.14z\" fill=\"#EA4335\"/>\n",
              "    </svg>\n",
              "    <div class=\"gradient-container\"><div class=\"gradient\"></div></div>\n",
              "  </div>\n",
              "  <div class=\"carousel\">\n",
              "    <a class=\"chip\" href=\"https://vertexaisearch.cloud.google.com/grounding-api-redirect/AbF9wXGxthHj0jE2ia9KAeacV7h_q1Lw_G36_kLk6MJFUgsXkfeHwspB4HbNqZnGpXHWQPncrlNCPwpGo_JLZy5wopTFZXP4-i5OBecWq5nlDEkV66yQis4_V325JFbrd7_L7BJo6gZTrX7FYsfhycuQtiX05MloLoVRHcVfMxAScbTLvDecWGS47En3Pl-MLpf4I-SuiB8fHaAapeZRWGygY61s5IyUmUk=\">Alura Imersão IA Google Gemini</a>\n",
              "    <a class=\"chip\" href=\"https://vertexaisearch.cloud.google.com/grounding-api-redirect/AbF9wXH-t72vSRjoR_odi7_VywGS7V8RH-7rrGQckCDkokBG-nVYIGIz38p0z6Hk4z9pQlm7Jpwbx8fAlAticD3LnozGH-GaJDxrR2pDeR-9zKnjNWh4J2lxrzxwYyYy7TrZip1bJZRaQ4YkZN_DD13iOQ6tEGkdkJ01smKr6F7G6RU5W4c7bThQQJ34CXfjguXtegP3bk79RMPmw8Td4awF3rpqExy6tEGGjhEHHtoqQXdIPn1P0_Xove4=\">próxima imersão IA com Google Gemini Alura</a>\n",
              "  </div>\n",
              "</div>\n"
            ]
          },
          "metadata": {}
        }
      ]
    },
    {
      "cell_type": "code",
      "source": [
        "# Instalar Framework ADK de agentes do Google ################################################\n",
        "!pip install -q google-adk"
      ],
      "metadata": {
        "id": "hvZ3UnPI4jhJ"
      },
      "execution_count": null,
      "outputs": []
    },
    {
      "cell_type": "code",
      "execution_count": null,
      "metadata": {
        "id": "aePV2bdfDeoW"
      },
      "outputs": [],
      "source": [
        "from google.adk.agents import Agent\n",
        "from google.adk.runners import Runner\n",
        "from google.adk.sessions import InMemorySessionService\n",
        "from google.adk.tools import google_search\n",
        "from google.genai import types  # Para criar conteúdos (Content e Part)\n",
        "from datetime import date\n",
        "import textwrap # Para formatar melhor a saída de texto\n",
        "from IPython.display import display, Markdown # Para exibir texto formatado no Colab\n",
        "import requests # Para fazer requisições HTTP\n",
        "import warnings\n",
        "\n",
        "warnings.filterwarnings(\"ignore\")"
      ]
    },
    {
      "cell_type": "code",
      "source": [
        "# Função auxiliar que envia uma mensagem para um agente via Runner e retorna a resposta final\n",
        "def call_agent(agent: Agent, message_text: str) -> str:\n",
        "    # Cria um serviço de sessão em memória\n",
        "    session_service = InMemorySessionService()\n",
        "    # Cria uma nova sessão (você pode personalizar os IDs conforme necessário)\n",
        "    session = session_service.create_session(app_name=agent.name, user_id=\"user1\", session_id=\"session1\")\n",
        "    # Cria um Runner para o agente\n",
        "    runner = Runner(agent=agent, app_name=agent.name, session_service=session_service)\n",
        "    # Cria o conteúdo da mensagem de entrada\n",
        "    content = types.Content(role=\"user\", parts=[types.Part(text=message_text)])\n",
        "\n",
        "    final_response = \"\"\n",
        "    # Itera assincronamente pelos eventos retornados durante a execução do agente\n",
        "    for event in runner.run(user_id=\"user1\", session_id=\"session1\", new_message=content):\n",
        "        if event.is_final_response():\n",
        "          for part in event.content.parts:\n",
        "            if part.text is not None:\n",
        "              final_response += part.text\n",
        "              final_response += \"\\n\"\n",
        "    return final_response"
      ],
      "metadata": {
        "id": "_xP4lWhsS5ko"
      },
      "execution_count": null,
      "outputs": []
    },
    {
      "cell_type": "code",
      "source": [
        "# Função auxiliar para exibir texto formatado em Markdown no Colab\n",
        "def to_markdown(text):\n",
        "  text = text.replace('•', '  *')\n",
        "  return Markdown(textwrap.indent(text, '> ', predicate=lambda _: True))"
      ],
      "metadata": {
        "id": "8dosiodaxfFR"
      },
      "execution_count": null,
      "outputs": []
    },
    {
      "cell_type": "code",
      "source": [
        "##########################################\n",
        "# --- Agente 1: Buscador de Notícias --- #\n",
        "##########################################\n",
        "def agente_buscador(topico, data_de_hoje):\n",
        "\n",
        "  buscador = Agent(\n",
        "    name=\"agente_buscador\",\n",
        "    model=\"gemini-2.0-flash\",\n",
        "    description=\"Agente que buscas informações no google\",\n",
        "    tools=[google_search],\n",
        "    instruction=\"\"\"\n",
        "    Você é um assistente de pesquisa. A sua tarefa é usar a ferramenta de busca do google (google_search) para recuperar as últimas notícias de lançamentos muito relevantes sobre o tópico abaixo.\n",
        "    Foque em no máximo 5 lançamentos relevantes, com base na quantidade e entusiasmo das notícias sobre ele.\n",
        "    Se um tema tiver poucas notícias ou reações entusiasmadas, é possível que ele não seja tão relevante assim e pode ser substituído por outro que tenha mais.\n",
        "    Esses lançamentos relevantes devem ser atuais, de no máximo um mês antes da data de hoje.\n",
        "    \"\"\"\n",
        "  )\n",
        "\n",
        "  entrada_do_agente_buscador = f\"Tópico: {topico}\\nData de hoje: {data_de_hoje}\"\n",
        "  lancamentos = call_agent(buscador, entrada_do_agente_buscador)\n",
        "  return lancamentos\n"
      ],
      "metadata": {
        "id": "o8bqIfi_DyH8"
      },
      "execution_count": null,
      "outputs": []
    },
    {
      "cell_type": "code",
      "source": [
        "################################################\n",
        "# --- Agente 2: Planejador de posts --- #\n",
        "################################################\n",
        "def agente_planejador(topico, lancamentos_buscados):\n",
        "    planejador = Agent(\n",
        "        name=\"agente_planejador\",\n",
        "        model=\"gemini-2.0-flash\",\n",
        "        # Inserir as instruções do Agente Planejador #################################################\n",
        "        instruction=\"\"\"\n",
        "         Você é um planejador de conteúdo, especialista em redes sociais. Com base na lista de lançamentos mais recentes e relevantes buscador, você deve:\n",
        "        usar a ferramenta de busca do Google (google_search) para criar um plano sobre quais são os pontos mais relevantes que poderíamos abordar em um post sobre cada um deles. Você também pode usar o (google_search) para encontrar mais informações sobre os temas e aprofundar.\n",
        "        Ao final, você irá escolher o tema mais relevante entre eles com base nas suas pesquisas e retornar esse tema, seus pontos mais relevantes, e um plano com os assuntos a serem abordados no post que será escrito posteriormente.\n",
        "        \"\"\",\n",
        "        description=\"Agente que planeja posts\",\n",
        "        tools=[google_search]\n",
        "    )\n",
        "\n",
        "    entrada_do_agente_planejador = f\"Tópico:{topico}\\nLançamentos buscados: {lancamentos_buscados}\"\n",
        "    # Executa o agente\n",
        "    plano_do_post = call_agent(planejador, entrada_do_agente_planejador)\n",
        "    return plano_do_post"
      ],
      "metadata": {
        "id": "y3VO1uo5_ghO"
      },
      "execution_count": null,
      "outputs": []
    },
    {
      "cell_type": "code",
      "source": [
        "######################################\n",
        "# --- Agente 3: Redator do Post --- #\n",
        "######################################\n",
        "def agente_redator(topico, plano_de_post):\n",
        "    redator = Agent(\n",
        "        name=\"agente_redator\",\n",
        "        model=\"gemini-2.0-flash\",\n",
        "        instruction=\"\"\"\n",
        "            Você é um Redator Criativo especializado em criar posts virais para redes sociais.\n",
        "            Você escreve posts para a empresa Alura, a maior escola online de tecnologia do Brasil.\n",
        "            Utilize o tema fornecido no plano de post e os pontos mais relevantes fornecidos e, com base nisso,\n",
        "            escreva um rascunho de post para Instagram sobre o tema indicado.\n",
        "            O post deve ser engajador, informativo, com linguagem simples e incluir 2 a 4 hashtags no final.\n",
        "            \"\"\",\n",
        "        description=\"Agente redator de posts engajadores para Instagram\"\n",
        "    )\n",
        "    entrada_do_agente_redator = f\"Tópico: {topico}\\nPlano de post: {plano_de_post}\"\n",
        "    # Executa o agente\n",
        "    rascunho = call_agent(redator, entrada_do_agente_redator)\n",
        "    return rascunho"
      ],
      "metadata": {
        "id": "uOqlg2TRLVh1"
      },
      "execution_count": null,
      "outputs": []
    },
    {
      "cell_type": "code",
      "source": [
        "##########################################\n",
        "# --- Agente 4: Revisor de Qualidade --- #\n",
        "##########################################\n",
        "def agente_revisor(topico, rascunho_gerado):\n",
        "    revisor = Agent(\n",
        "        name=\"agente_revisor\",\n",
        "        model=\"gemini-2.0-flash\",\n",
        "        instruction=\"\"\"\n",
        "            Você é um Editor e Revisor de Conteúdo meticuloso, especializado em posts para redes sociais, com foco no Instagram.\n",
        "            Por ter um público jovem, entre 18 e 30 anos, use um tom de escrita adequado.\n",
        "            Revise o rascunho de post de Instagram abaixo sobre o tópico indicado, verificando clareza, concisão, correção e tom.\n",
        "            Se o rascunho estiver bom, responda apenas 'O rascunho está ótimo e pronto para publicar!'.\n",
        "            Caso haja problemas, aponte-os e sugira melhorias.\n",
        "            \"\"\",\n",
        "        description=\"Agente revisor de post para redes sociais.\"\n",
        "    )\n",
        "    entrada_do_agente_revisor = f\"Tópico: {topico}\\nRascunho: {rascunho_gerado}\"\n",
        "    # Executa o agente\n",
        "    texto_revisado = call_agent(revisor, entrada_do_agente_revisor)\n",
        "    return texto_revisado"
      ],
      "metadata": {
        "id": "_aTb1SdkLeT6"
      },
      "execution_count": null,
      "outputs": []
    },
    {
      "cell_type": "code",
      "source": [
        "data_de_hoje = date.today().strftime(\"%d/%m/%Y\")\n",
        "\n",
        "print(\"🚀 Iniciando o Sistema de Criação de Posts para Instagram com 4 Agentes 🚀\")\n",
        "\n",
        "# --- Obter o Tópico do Usuário ---\n",
        "topico = input(\"❓ Por favor, digite o TÓPICO sobre o qual você quer criar o post de tendências: \")\n",
        "\n",
        "# Inserir lógica do sistema de agentes ################################################\n",
        "if not topico:\n",
        "  print(\"Você esqueceu de digitar o tópico!\")\n",
        "else:\n",
        "  print(f\"Maravilha, vamos criar o post sobre novidades em {topico}\")\n",
        "\n",
        "  lancamentos_buscados = agente_buscador(topico, data_de_hoje)\n",
        "  print(\"\\n-- 📝 Resultado do Agente 1 (Buscador) ---\\n\")\n",
        "  display(to_markdown(lancamentos_buscados))\n",
        "  print(\"--------------------------------------------------------------\")\n",
        "\n",
        "  plano_de_post = agente_planejador(topico, lancamentos_buscados)\n",
        "  print(\"\\n-- 📝 Resultado do Agente 2 (Planejador) ---\\n\")\n",
        "  display(to_markdown(plano_de_post))\n",
        "  print(\"--------------------------------------------------------------\")\n",
        "\n",
        "  entrada_do_agente_redator = agente_redator(topico, plano_de_post)\n",
        "  print(\"\\n-- 📝 Resultado do Agente 3 (Redator) ---\\n\")\n",
        "  display(to_markdown(entrada_do_agente_redator))\n",
        "  print(\"--------------------------------------------------------------\")\n",
        "\n",
        "  entrada_do_agente_revisor = agente_revisor(topico, entrada_do_agente_redator)\n",
        "  print(\"\\n-- 📝 Resultado do Agente 4 (Revisor) ---\\n\")\n",
        "  display(to_markdown(entrada_do_agente_revisor))\n",
        "  print(\"--------------------------------------------------------------\")"
      ],
      "metadata": {
        "id": "630ummxz4myx",
        "colab": {
          "base_uri": "https://localhost:8080/",
          "height": 1000
        },
        "outputId": "c2b76371-2cdf-4d03-f8cf-43a636220836"
      },
      "execution_count": null,
      "outputs": [
        {
          "output_type": "stream",
          "name": "stdout",
          "text": [
            "🚀 Iniciando o Sistema de Criação de Posts para Instagram com 4 Agentes 🚀\n",
            "❓ Por favor, digite o TÓPICO sobre o qual você quer criar o post de tendências: Fiat Elba\n",
            "Maravilha, vamos criar o post sobre novidades em Fiat Elba\n",
            "\n",
            "-- 📝 Resultado do Agente 1 (Buscador) ---\n",
            "\n"
          ]
        },
        {
          "output_type": "display_data",
          "data": {
            "text/plain": [
              "<IPython.core.display.Markdown object>"
            ],
            "text/markdown": "> Para te ajudar a encontrar informações relevantes sobre o Fiat Elba, preciso primeiro entender o que você procura. Você está interessado em saber sobre:\n> \n> *   **Relançamento do Fiat Elba?** Existe alguma notícia sobre a volta do modelo?\n> *   **Notícias sobre o Fiat Elba Clássico?** Histórias, restaurações, ou eventos relacionados ao modelo original?\n> *   **Elba como carro clássico/vintage?** Informações sobre o valor do carro, procura por ele, etc.\n> \n> Com isso em mente, farei algumas pesquisas para encontrar as notícias mais recentes e relevantes sobre o Fiat Elba.\n> \n> \n> Com base nas minhas buscas, aqui estão os lançamentos e notícias mais relevantes sobre o Fiat Elba nos últimos meses:\n> \n> **1. Relançamento do Fiat Elba (Especulação e Humor):**\n> \n> *   Há algumas notícias de abril de 2025 que mencionam um possível relançamento do Fiat Elba, impulsionado pela prisão de Fernando Collor. No entanto, essas notícias são de natureza satírica e humorística, como a da Revista Piauí ([10]). Não há informações concretas sobre um relançamento oficial por parte da Fiat.\n> *   O site Garagem Master ([5], [8]) criou projeções de como seria um novo Fiat Elba Visione 2026 e Elba Stellare 2026, com designs modernos, mas mantendo a essência do clássico. É importante notar que são apenas exercícios de design.\n> \n> **2. Fiat Elba como Símbolo Político:**\n> \n> *   O Fiat Elba continua sendo lembrado como um símbolo do escândalo político envolvendo o ex-presidente Fernando Collor. Artigos recentes ([2], [3], [4], [6]) relembram o caso e como o carro se tornou um ícone da história política brasileira.\n> \n> **3. Problemas e Legado do Fiat Elba Clássico:**\n> \n> *   Um artigo de março de 2025 no Agora Motor ([1]) detalha os principais problemas enfrentados pelo Fiat Elba ao longo dos anos, como a suspensão frágil, ferrugem e falhas no sistema elétrico. Apesar disso, o artigo ressalta que o Elba conquistou uma base de fãs por seu custo-benefício e facilidade de manutenção.\n> *   Um vídeo de janeiro de 2025 no YouTube ([9]) discute a verdade por trás do fim do Fiat Elba, destacando sua durabilidade, economia e capacidade de carga, mas também mencionando a tendência à corrosão.\n> \n> **4. Valorização e Restauração:**\n> \n> *   Há menções sobre o valor de um Fiat Elba Weekend 1.5 ano 1991, que pode chegar a R$ 6.198,00 (em maio de 2025), dependendo do estado de conservação ([2]).\n> *   O Mercado Livre ([12]) oferece adesivos e emblemas para restauração do Fiat Elba.\n> \n> **Em resumo:**\n> \n> Não há um relançamento oficial do Fiat Elba. As notícias mais recentes giram em torno do seu legado como carro clássico, seu papel na história política brasileira e projetos de design que reimaginam o modelo para o futuro.\n> \n"
          },
          "metadata": {}
        },
        {
          "output_type": "stream",
          "name": "stdout",
          "text": [
            "--------------------------------------------------------------\n",
            "\n",
            "-- 📝 Resultado do Agente 2 (Planejador) ---\n",
            "\n"
          ]
        },
        {
          "output_type": "display_data",
          "data": {
            "text/plain": [
              "<IPython.core.display.Markdown object>"
            ],
            "text/markdown": "> Com base nas informações coletadas, o tema mais relevante para um post sobre o Fiat Elba é:\n> \n> **O Fiat Elba: Um Clássico Brasileiro Entre a Nostalgia e a História Política**\n> \n> **Pontos Relevantes:**\n> \n> *   **Legado Histórico-Político:** O Fiat Elba como símbolo do governo Collor e do confisco de bens.\n> *   **Nostalgia e Valorização:** O interesse crescente pelo Elba como carro clássico, restauração e valor de mercado.\n> *   **Problemas e Qualidades:** Os defeitos conhecidos do modelo original (suspensão, ferrugem, elétrica) versus sua durabilidade, economia e espaço.\n> *   **Especulações e Humor:** As notícias satíricas sobre um possível relançamento e as projeções de design moderno.\n> \n> **Plano para o Post:**\n> \n> 1.  **Introdução:**\n>     *   Apresentar o Fiat Elba como um carro que marcou época no Brasil.\n>     *   Destacar a dualidade do modelo: carro popular e símbolo político.\n>     *   Mencionar o interesse atual pelo Elba como carro clássico.\n> 2.  **O Elba e o Governo Collor:**\n>     *   Explicar o contexto histórico do confisco de bens e como o Elba se tornou um símbolo desse período.\n>     *   Incluir fotos e referências a reportagens da época.\n> 3.  **Problemas e Qualidades do Fiat Elba:**\n>     *   Listar os principais problemas enfrentados pelo modelo (suspensão, ferrugem, elétrica).\n>     *   Destacar suas qualidades: durabilidade, economia, espaço interno e facilidade de manutenção.\n>     *   Usar depoimentos de proprietários e mecânicos para enriquecer a discussão.\n> 4.  **O Elba como Carro Clássico:**\n>     *   Abordar o interesse crescente pelo Elba como carro clássico e de coleção.\n>     *   Mostrar exemplos de restaurações e projetos de personalização.\n>     *   Discutir o valor de mercado do Elba e a procura por peças de reposição.\n> 5.  **Especulações e Humor:**\n>     *   Mencionar as notícias satíricas sobre um possível relançamento do Elba.\n>     *   Apresentar as projeções de design moderno (Elba Visione e Elba Stellare) como exercício de criatividade.\n> 6.  **Conclusão:**\n>     *   Reforçar o legado do Fiat Elba como um carro que faz parte da história do Brasil.\n>     *   Convidar os leitores a compartilhar suas experiências e opiniões sobre o modelo.\n>     *   Incentivar a discussão sobre o futuro do Elba como carro clássico.\n> \n> Para aprofundar, posso pesquisar mais sobre:\n> \n> *   A história do Fiat Elba no Brasil e no mundo.\n> *   O mercado de carros clássicos no Brasil e o valor do Elba.\n> *   Dicas de restauração e manutenção do Fiat Elba.\n> *   Comparações entre o Fiat Elba e outros carros da época.\n> \n> \n> Excelente! Com base nas informações adicionais, posso refinar o plano para o post sobre o Fiat Elba:\n> \n> **Título:** Fiat Elba: Da Perua Popular ao Símbolo de um Escândalo - Uma História Brasileira\n> \n> **Estrutura do Post:**\n> \n> 1.  **Introdução:**\n>     *   Apresentar o Fiat Elba como um carro que marcou época no Brasil, lançado em 1986 como a versão perua do Fiat Uno (Fontes: \\[1], \\[2], \\[3], \\[4], \\[7]).\n>     *   Destacar a dualidade do modelo: carro popular e símbolo político do impeachment de Collor (Fontes: \\[2], \\[4], \\[5]).\n>     *   Mencionar o interesse atual pelo Elba como carro clássico, com valor de mercado em torno de R$ 6.198,00 (em maio de 2025) para um modelo 1991 em bom estado (Fonte: \\[5]).\n> 2.  **O Elba e o Governo Collor:**\n>     *   Explicar o contexto histórico do confisco de bens e como um Fiat Elba Weekend 1.5 1991 se tornou um símbolo do escândalo, sendo adquirido com recursos de contas fantasmas de PC Farias (Fontes: \\[2], \\[4], \\[5]).\n>     *   Incluir fotos e referências a reportagens da época, mostrando o carro como \"prova material\" no processo de impeachment (Fonte: \\[4]).\n> 3.  **Problemas e Qualidades do Fiat Elba:**\n>     *   Listar os principais problemas enfrentados pelo modelo: suspensão frágil, ferrugem, falhas no sistema elétrico, desgaste rápido do motor e pneus (Fontes: \\[1], \\[11], \\[15]).\n>     *   Destacar suas qualidades: durabilidade, economia (média de 10 km/l na cidade e 14 km/l na estrada), espaço interno (maior espaço para bagagem de uma perua nacional na época, com 847 litros até o teto) e facilidade de manutenção (Fontes: \\[1], \\[7], \\[11], \\[15]).\n>     *   Usar depoimentos de proprietários e mecânicos para enriquecer a discussão.\n> 4.  **O Elba como Carro Clássico:**\n>     *   Abordar o interesse crescente pelo Elba como carro clássico e de coleção, com comunidades online e clubes dedicados ao modelo.\n>     *   Mostrar exemplos de restaurações e projetos de personalização (Fonte: \\[20]).\n>     *   Discutir o valor de mercado do Elba e a procura por peças de reposição (Fonte: \\[5]).\n>     *   Mencionar a oferta de adesivos e emblemas para restauração no Mercado Livre (Fonte: \\[12]).\n> 5.  **Comparativo com Concorrentes:**\n>     *   Comparar o Fiat Elba com outros modelos da época, como Chevrolet Ipanema/Suprema, Ford Royale e VW Parati/Quantum, destacando suas vantagens e desvantagens em termos de espaço, desempenho e conforto (Fontes: \\[10], \\[13], \\[14]).\n>     *   Mencionar o comparativo da Revista Quatro Rodas em 1993, que avaliou as principais peruas nacionais (Fontes: \\[10], \\[13]).\n> 6.  **Especulações e Humor:**\n>     *   Mencionar as notícias satíricas sobre um possível relançamento do Elba, impulsionadas pela prisão de Fernando Collor (Fonte: \\[10]).\n>     *   Apresentar as projeções de design moderno (Elba Visione e Elba Stellare) como exercício de criatividade (Fontes: \\[5], \\[8]).\n> 7.  **Conclusão:**\n>     *   Reforçar o legado do Fiat Elba como um carro que faz parte da história do Brasil, tanto pela sua importância no mercado automotivo quanto pelo seu papel no cenário político.\n>     *   Convidar os leitores a compartilhar suas experiências e opiniões sobre o modelo.\n>     *   Incentivar a discussão sobre o futuro do Elba como carro clássico e a valorização da sua história.\n> \n> Com este plano detalhado, o post terá uma estrutura sólida e abordará todos os pontos relevantes sobre o Fiat Elba, desde sua história e características até seu legado como carro clássico e símbolo político.\n> \n"
          },
          "metadata": {}
        },
        {
          "output_type": "stream",
          "name": "stdout",
          "text": [
            "--------------------------------------------------------------\n",
            "\n",
            "-- 📝 Resultado do Agente 3 (Redator) ---\n",
            "\n"
          ]
        },
        {
          "output_type": "display_data",
          "data": {
            "text/plain": [
              "<IPython.core.display.Markdown object>"
            ],
            "text/markdown": "> **Rascunho do Post para Instagram:**\n> \n> 🚗💨 **Fiat Elba: Mais que uma perua, um capítulo da história do Brasil!** 🇧🇷\n> \n> Lançada como a versão familiar do Uno, a Elba logo conquistou as ruas... e se tornou um símbolo de uma época turbulenta. 🗓️ Quem lembra do confisco de bens e de um certo Elba Weekend 1.5 no meio do escândalo? 🙊\n> \n> Mas nem só de polêmica viveu a Elba! Ela tinha seus encantos: espaçosa, econômica e fácil de manter. 💪 Claro, a suspensão pedia arrego e a ferrugem era inimiga, mas quem não tem seus defeitos, né? 😉\n> \n> Hoje, a Elba virou peça de colecionador! 🤩 Tem gente restaurando, personalizando e mostrando que a perua tem muito a oferecer. E aí, qual a sua história com a Elba? Conta pra gente nos comentários! 👇\n> \n> \\#FiatElba \\#CarrosAntigos \\#Nostalgia \\#Alura\n> \n"
          },
          "metadata": {}
        },
        {
          "output_type": "stream",
          "name": "stdout",
          "text": [
            "--------------------------------------------------------------\n",
            "\n",
            "-- 📝 Resultado do Agente 4 (Revisor) ---\n",
            "\n"
          ]
        },
        {
          "output_type": "display_data",
          "data": {
            "text/plain": [
              "<IPython.core.display.Markdown object>"
            ],
            "text/markdown": "> O rascunho está ótimo e pronto para publicar!\n> \n"
          },
          "metadata": {}
        },
        {
          "output_type": "stream",
          "name": "stdout",
          "text": [
            "--------------------------------------------------------------\n"
          ]
        }
      ]
    }
  ]
}